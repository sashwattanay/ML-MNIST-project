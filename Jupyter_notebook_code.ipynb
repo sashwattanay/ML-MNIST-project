{
 "cells": [
  {
   "cell_type": "code",
   "execution_count": null,
   "id": "481683e5-b5b9-4926-a53f-401eccb507d0",
   "metadata": {},
   "outputs": [],
   "source": [
    "# -------------------------------------------------------------------\n",
    "# MNIST Digit Classification using K-Nearest Neighbors (KNN)\n",
    "#\n",
    "# Problem Statement:\n",
    "# The MNIST dataset consists of grayscale images of handwritten digits \n",
    "# (0-9), each represented as a 28x28 pixel grid. The goal is to build a \n",
    "# K-Nearest Neighbors (KNN) classifier to identify the digit in each \n",
    "# image based on pixel intensity values. This involves preprocessing \n",
    "# the high-dimensional dataset, tuning hyperparameters, and evaluating \n",
    "# the model's accuracy on a test set.\n",
    "#\n",
    "# Objective:\n",
    "# This notebook demonstrates the application of the KNN algorithm for \n",
    "# digit classification with a focus on preprocessing, feature selection, \n",
    "# and cross-validation to achieve robust performance.\n",
    "#\n",
    "# Workflow:\n",
    "# 1. Preprocess the MNIST dataset:\n",
    "#    - Normalize pixel intensity values using Min-Max Scaling.\n",
    "#    - Remove low-variance features (<300 variance threshold) to reduce \n",
    "#      dimensionality and computational cost.\n",
    "# 2. Perform hyperparameter tuning:\n",
    "#    - Use GridSearchCV with 5-fold cross-validation to optimize \n",
    "#      hyperparameters (`n_neighbors`, `weights`, and `metric`).\n",
    "# 3. Evaluate the final model:\n",
    "#    - Test accuracy: 97.31%\n",
    "#    - Precision, recall, and F1-scores exceed 0.97 for all classes.\n",
    "#\n",
    "# Links:\n",
    "# - GitHub Repository: https://github.com/sashwattanay/MNIST-KNN-Classifier\n",
    "#\n",
    "# Repository Author: Sashwat Tanay\n",
    "# -------------------------------------------------------------------"
   ]
  },
  {
   "cell_type": "code",
   "execution_count": 1,
   "id": "a55fe621-13be-44fa-b818-43bfdeebd2dd",
   "metadata": {},
   "outputs": [
    {
     "name": "stdout",
     "output_type": "stream",
     "text": [
      "Available keys in the dataset object: dict_keys(['data', 'target', 'frame', 'categories', 'feature_names', 'target_names', 'DESCR', 'details', 'url'])\n",
      "Shape of data (features): (70000, 784)\n",
      "Shape of target (labels): (70000,)\n",
      "First 5 labels: ['5' '0' '4' '1' '9']\n"
     ]
    }
   ],
   "source": [
    "# Import necessary libraries\n",
    "from sklearn.datasets import fetch_openml\n",
    "import numpy as np\n",
    "\n",
    "# Download the MNIST dataset\n",
    "mnist = fetch_openml('mnist_784', version=1, as_frame=False)\n",
    "\n",
    "# Inspect the keys of the fetched dataset to determine available attributes\n",
    "print(\"Available keys in the dataset object:\", mnist.keys())\n",
    "\n",
    "# Dynamically extract the keywords for data and target\n",
    "data_key = 'data' if 'data' in mnist.keys() else None\n",
    "target_key = 'target' if 'target' in mnist.keys() else None\n",
    "\n",
    "# Ensure the keys are found; otherwise, raise an error\n",
    "if data_key is None or target_key is None:\n",
    "    raise ValueError(\"The dataset does not contain expected 'data' or 'target' attributes.\")\n",
    "\n",
    "# Extract data (features) and target (labels) using the identified keys\n",
    "X, y = mnist[data_key], mnist[target_key]\n",
    "\n",
    "# Display the shape of the data and target\n",
    "print(f\"Shape of data (features): {X.shape}\")\n",
    "print(f\"Shape of target (labels): {y.shape}\")\n",
    "\n",
    "# Convert target to integers if necessary (as it may initially be a string)\n",
    "if y.dtype.kind == 'U':  # Check if target is a string type\n",
    "    y = y.astype(int)\n",
    "\n",
    "# Display the first few samples to confirm the data\n",
    "print(\"First 5 labels:\", y[:5])"
   ]
  },
  {
   "cell_type": "code",
   "execution_count": 2,
   "id": "d56b0d0d-57af-4ffa-9f25-10dbb34e8bca",
   "metadata": {},
   "outputs": [
    {
     "name": "stdout",
     "output_type": "stream",
     "text": [
      "Type of X: <class 'numpy.ndarray'>\n",
      "Type of y: <class 'numpy.ndarray'>\n",
      "Shape of X: (70000, 784)\n",
      "Shape of y: (70000,)\n",
      "Number of dimensions in X: 2\n",
      "Data type of elements in X: int64\n",
      "Number of dimensions in y: 1\n",
      "Data type of elements in y: object\n"
     ]
    }
   ],
   "source": [
    "# Check the type of X and y\n",
    "print(\"Type of X:\", type(X))\n",
    "print(\"Type of y:\", type(y))\n",
    "\n",
    "# Check the shape of X and y\n",
    "print(\"Shape of X:\", X.shape)\n",
    "print(\"Shape of y:\", y.shape)\n",
    "\n",
    "# Check the number of dimensions (if they are NumPy arrays)\n",
    "if isinstance(X, np.ndarray):\n",
    "    print(\"Number of dimensions in X:\", X.ndim)\n",
    "    print(\"Data type of elements in X:\", X.dtype)\n",
    "\n",
    "if isinstance(y, np.ndarray):\n",
    "    print(\"Number of dimensions in y:\", y.ndim)\n",
    "    print(\"Data type of elements in y:\", y.dtype)"
   ]
  },
  {
   "cell_type": "code",
   "execution_count": 3,
   "id": "6ba7e06e-6d2e-4d46-900c-f6e8d8beca1c",
   "metadata": {},
   "outputs": [],
   "source": [
    "y = y.astype(int)"
   ]
  },
  {
   "cell_type": "code",
   "execution_count": 4,
   "id": "65f1b675-d3b4-490d-99d2-64bcb7083d1b",
   "metadata": {},
   "outputs": [
    {
     "name": "stdout",
     "output_type": "stream",
     "text": [
      "Data type of y after conversion: int64\n"
     ]
    }
   ],
   "source": [
    "print(\"Data type of y after conversion:\", y.dtype)"
   ]
  },
  {
   "cell_type": "code",
   "execution_count": 5,
   "id": "d40768f9-2181-43a5-ae91-9e8474819122",
   "metadata": {},
   "outputs": [
    {
     "name": "stdout",
     "output_type": "stream",
     "text": [
      "Type of X: <class 'numpy.ndarray'>\n",
      "Type of y: <class 'numpy.ndarray'>\n",
      "Shape of X: (70000, 784)\n",
      "Shape of y: (70000,)\n",
      "Number of dimensions in X: 2\n",
      "Data type of elements in X: int64\n",
      "Number of dimensions in y: 1\n",
      "Data type of elements in y: int64\n"
     ]
    }
   ],
   "source": [
    "# Convert y to integers\n",
    "y = y.astype(int)\n",
    "\n",
    "# Re-check types and shapes\n",
    "print(\"Type of X:\", type(X))\n",
    "print(\"Type of y:\", type(y))\n",
    "print(\"Shape of X:\", X.shape)\n",
    "print(\"Shape of y:\", y.shape)\n",
    "print(\"Number of dimensions in X:\", X.ndim)\n",
    "print(\"Data type of elements in X:\", X.dtype)\n",
    "print(\"Number of dimensions in y:\", y.ndim)\n",
    "print(\"Data type of elements in y:\", y.dtype)"
   ]
  },
  {
   "cell_type": "code",
   "execution_count": 6,
   "id": "5d799195-dbaa-4392-8313-c28de4d2f1da",
   "metadata": {},
   "outputs": [
    {
     "name": "stdout",
     "output_type": "stream",
     "text": [
      "First 5 labels: [5 0 4 1 9]\n"
     ]
    }
   ],
   "source": [
    "print(\"First 5 labels:\", y[:5])"
   ]
  },
  {
   "cell_type": "code",
   "execution_count": 7,
   "id": "20a5841a-bf70-4286-8102-05979356aad2",
   "metadata": {},
   "outputs": [
    {
     "data": {
      "image/png": "[encoded data removed]",
      "text/plain": [
       "<Figure size 1000x500 with 15 Axes>"
      ]
     },
     "metadata": {},
     "output_type": "display_data"
    }
   ],
   "source": [
    "import matplotlib.pyplot as plt\n",
    "\n",
    "# Function to display a grid of digit images\n",
    "def plot_digits(data, labels, n_rows=3, n_cols=5):\n",
    "    fig, axes = plt.subplots(n_rows, n_cols, figsize=(10, 5))\n",
    "    axes = axes.ravel()  # Flatten the axes array for easier iteration\n",
    "    for i in range(n_rows * n_cols):\n",
    "        axes[i].imshow(data[i].reshape(28, 28), cmap='gray')\n",
    "        axes[i].axis('off')\n",
    "        axes[i].set_title(labels[i])\n",
    "    plt.tight_layout()\n",
    "    plt.show()\n",
    "\n",
    "# Plot the first 15 digits from the dataset\n",
    "plot_digits(X, y, n_rows=3, n_cols=5)"
   ]
  },
  {
   "cell_type": "code",
   "execution_count": 8,
   "id": "39f13c6a-9fc2-48ef-9e49-4849161d9200",
   "metadata": {},
   "outputs": [
    {
     "data": {
      "image/png": "[encoded data removed]",
      "text/plain": [
       "<Figure size 640x480 with 1 Axes>"
      ]
     },
     "metadata": {},
     "output_type": "display_data"
    }
   ],
   "source": [
    "import matplotlib.pyplot as plt\n",
    "plt.hist(y, bins=np.arange(11) - 0.5, edgecolor='black')\n",
    "plt.xticks(range(10))\n",
    "plt.xlabel(\"Class\")\n",
    "plt.ylabel(\"Frequency\")\n",
    "plt.title(\"Class Distribution in MNIST\")\n",
    "plt.show()"
   ]
  },
  {
   "cell_type": "code",
   "execution_count": 9,
   "id": "ccc759e6-e7a5-49c2-910b-46b4e3b2551d",
   "metadata": {},
   "outputs": [
    {
     "name": "stdout",
     "output_type": "stream",
     "text": [
      "Number of zero-variance features: 65\n"
     ]
    }
   ],
   "source": [
    "import numpy as np\n",
    "\n",
    "variance = np.var(X, axis=0)  # Calculate variance for each feature (pixel)\n",
    "zero_variance_features = np.where(variance == 0)[0]  # Index of zero-variance features\n",
    "print(f\"Number of zero-variance features: {len(zero_variance_features)}\")"
   ]
  },
  {
   "cell_type": "code",
   "execution_count": 10,
   "id": "c9ebea0b-bae7-4e71-b846-573c8f56431e",
   "metadata": {},
   "outputs": [
    {
     "name": "stdout",
     "output_type": "stream",
     "text": [
      "Number of near-zero variance features: 305\n"
     ]
    }
   ],
   "source": [
    "low_variance_features = np.where(variance < 300)[0]\n",
    "print(f\"Number of near-zero variance features: {len(low_variance_features)}\")"
   ]
  },
  {
   "cell_type": "code",
   "execution_count": 11,
   "id": "b8aa8c7f-2e8f-4f67-ac17-5082e112def3",
   "metadata": {},
   "outputs": [
    {
     "data": {
      "image/png": "[encoded data removed]",
      "text/plain": [
       "<Figure size 640x480 with 2 Axes>"
      ]
     },
     "metadata": {},
     "output_type": "display_data"
    }
   ],
   "source": [
    "import matplotlib.pyplot as plt\n",
    "\n",
    "variance_image = variance.reshape(28, 28)  # Reshape to 28x28 grid\n",
    "plt.imshow(variance_image, cmap='hot', interpolation='nearest')\n",
    "plt.colorbar(label=\"Variance\")\n",
    "plt.title(\"Variance of Each Pixel in MNIST Dataset\")\n",
    "plt.show()"
   ]
  },
  {
   "cell_type": "code",
   "execution_count": 12,
   "id": "57b36e2e-cebb-4ad0-904e-2c07f6214eb9",
   "metadata": {},
   "outputs": [
    {
     "name": "stdout",
     "output_type": "stream",
     "text": [
      "Shape of original dataset: (70000, 784)\n",
      "Shape after removing low-variance features: (70000, 479)\n"
     ]
    }
   ],
   "source": [
    "# Drop low-variance features from the dataset\n",
    "X_filtered = np.delete(X, low_variance_features, axis=1)\n",
    "\n",
    "# Display the shape of the dataset before and after filtering\n",
    "print(f\"Shape of original dataset: {X.shape}\")\n",
    "print(f\"Shape after removing low-variance features: {X_filtered.shape}\")"
   ]
  },
  {
   "cell_type": "code",
   "execution_count": null,
   "id": "315ab6c0-cc2c-4147-aaa2-215ad8e1f541",
   "metadata": {},
   "outputs": [],
   "source": []
  },
  {
   "cell_type": "code",
   "execution_count": 13,
   "id": "a6704995-38f2-4a6a-aa71-74d93c9a4767",
   "metadata": {},
   "outputs": [
    {
     "name": "stdout",
     "output_type": "stream",
     "text": [
      "First 5 scaled samples:\n",
      "[[0.         0.         0.         ... 0.         0.         0.        ]\n",
      " [0.         0.         0.         ... 0.         0.         0.        ]\n",
      " [0.         0.         0.         ... 0.         0.         0.        ]\n",
      " [0.         0.         0.         ... 0.         0.         0.        ]\n",
      " [0.         0.         0.         ... 0.57647059 0.98823529 0.16470588]]\n"
     ]
    }
   ],
   "source": [
    "# Import MinMaxScaler from scikit-learn\n",
    "from sklearn.preprocessing import MinMaxScaler\n",
    "\n",
    "# Initialize the MinMaxScaler\n",
    "scaler = MinMaxScaler()\n",
    "\n",
    "# Apply Min-Max Scaling to the filtered MNIST features\n",
    "X_scaled = scaler.fit_transform(X_filtered)\n",
    "\n",
    "# Display the first few scaled samples to verify\n",
    "print(\"First 5 scaled samples:\")\n",
    "print(X_scaled[:5])"
   ]
  },
  {
   "cell_type": "code",
   "execution_count": 14,
   "id": "71e3afbe-795e-45dc-bb69-cb99ef3291e1",
   "metadata": {},
   "outputs": [
    {
     "data": {
      "image/png": "[encoded data removed]",
      "text/plain": [
       "<Figure size 640x480 with 1 Axes>"
      ]
     },
     "metadata": {},
     "output_type": "display_data"
    }
   ],
   "source": [
    "import numpy as np\n",
    "import matplotlib.pyplot as plt\n",
    "\n",
    "# Example: Select one sample from the scaled dataset\n",
    "sample_idx = 0  # Index of the digit to plot\n",
    "original_shape = (28, 28)  # Original grid shape (28x28 pixels)\n",
    "\n",
    "# Step 1: Initialize a blank grid with zeros (to represent all 784 original features)\n",
    "reconstructed_image = np.zeros(np.prod(original_shape))  # 784 elements\n",
    "\n",
    "# Step 2: Map the retained features back to their original positions\n",
    "remaining_features = np.delete(np.arange(784), low_variance_features)  # Indices of retained features\n",
    "reconstructed_image[remaining_features] = X_scaled[sample_idx]  # Place scaled feature values\n",
    "\n",
    "# Step 3: Reshape the 1D reconstructed image back to the original 28x28 grid\n",
    "reconstructed_image = reconstructed_image.reshape(original_shape)\n",
    "\n",
    "# Step 4: Plot the reconstructed image\n",
    "plt.imshow(reconstructed_image, cmap='gray')\n",
    "plt.title(\"Reconstructed Digit After Dropping Low-Variance Features\")\n",
    "plt.axis('off')\n",
    "plt.show()"
   ]
  },
  {
   "cell_type": "code",
   "execution_count": 15,
   "id": "d1aeb0e4-6dcf-441d-9a94-79b43af19543",
   "metadata": {},
   "outputs": [
    {
     "data": {
      "image/png": "[encoded data removed]",
      "text/plain": [
       "<Figure size 640x480 with 1 Axes>"
      ]
     },
     "metadata": {},
     "output_type": "display_data"
    }
   ],
   "source": [
    "import matplotlib.pyplot as plt\n",
    "\n",
    "# Example: Select the same sample index as used for reconstruction\n",
    "sample_idx = 0  # Index of the digit to plot\n",
    "original_shape = (28, 28)  # Original grid shape (28x28 pixels)\n",
    "\n",
    "# Step 1: Reshape the original sample back to 28x28 grid\n",
    "original_image = X[sample_idx].reshape(original_shape)\n",
    "\n",
    "# Step 2: Plot the original image\n",
    "plt.imshow(original_image, cmap='gray')\n",
    "plt.title(\"Original Digit Before Dropping Features\")\n",
    "plt.axis('off')\n",
    "plt.show()"
   ]
  },
  {
   "cell_type": "code",
   "execution_count": 16,
   "id": "59ebefbe-d38b-4a6a-b824-2dddc0b76fdf",
   "metadata": {},
   "outputs": [
    {
     "name": "stdout",
     "output_type": "stream",
     "text": [
      "Shape of training data: (56000, 479), Training labels: (56000,)\n",
      "Shape of test data: (14000, 479), Test labels: (14000,)\n"
     ]
    }
   ],
   "source": [
    "from sklearn.model_selection import train_test_split\n",
    "\n",
    "# Split the dataset\n",
    "X_train, X_test, y_train, y_test = train_test_split(\n",
    "    X_scaled, y, test_size=0.2, random_state=42, stratify=y\n",
    ")\n",
    "\n",
    "# Display the shapes of the resulting datasets\n",
    "print(f\"Shape of training data: {X_train.shape}, Training labels: {y_train.shape}\")\n",
    "print(f\"Shape of test data: {X_test.shape}, Test labels: {y_test.shape}\")"
   ]
  },
  {
   "cell_type": "code",
   "execution_count": null,
   "id": "dee433ec-331a-4101-9679-b2d3bafa0053",
   "metadata": {},
   "outputs": [],
   "source": [
    "# Import necessary libraries\n",
    "from sklearn.model_selection import GridSearchCV\n",
    "from sklearn.neighbors import KNeighborsClassifier\n",
    "import joblib\n",
    "\n",
    "# Define the hyperparameter grid\n",
    "param_grid = {\n",
    "    'n_neighbors': [3, 5, 7, 9],  # Number of neighbors to test\n",
    "    'weights': ['uniform', 'distance'],  # Weighting strategies\n",
    "    'metric': ['euclidean', 'manhattan']  # Distance metrics\n",
    "}\n",
    "\n",
    "# Initialize the KNN model\n",
    "knn = KNeighborsClassifier()\n",
    "\n",
    "# Set up GridSearchCV with cross-validation\n",
    "grid_search = GridSearchCV(\n",
    "    estimator=knn,\n",
    "    param_grid=param_grid,\n",
    "    cv=5,  # 5-fold cross-validation\n",
    "    scoring='accuracy',  # Metric to optimize\n",
    "    n_jobs=-1  # Use all available processors\n",
    ")\n",
    "\n",
    "# Perform the grid search on the training data\n",
    "grid_search.fit(X_train, y_train)\n",
    "\n",
    "# Print the best hyperparameters and cross-validation score\n",
    "print(\"Best Hyperparameters:\", grid_search.best_params_)\n",
    "print(\"Best Cross-Validation Accuracy:\", grid_search.best_score_)\n",
    "\n",
    "# Train the final model with the best hyperparameters\n",
    "best_model = grid_search.best_estimator_\n",
    "best_model.fit(X_train, y_train)\n",
    "\n",
    "# Save the best model for later use\n",
    "joblib.dump(best_model, \"best_knn_model.pkl\")\n",
    "print(\"The best KNN model has been saved as 'best_knn_model.pkl'.\")"
   ]
  },
  {
   "cell_type": "code",
   "execution_count": 18,
   "id": "63329852-6743-431f-8b79-332adf54b020",
   "metadata": {},
   "outputs": [
    {
     "name": "stdout",
     "output_type": "stream",
     "text": [
      "Test Accuracy: 0.9731\n",
      "Confusion Matrix:\n",
      "[[1375    1    1    0    0    0    3    0    0    1]\n",
      " [   0 1565    4    2    1    0    0    3    0    0]\n",
      " [  10   10 1345    4    2    0    4   19    4    0]\n",
      " [   1    1    6 1388    0   13    1    7    6    5]\n",
      " [   2   13    1    0 1307    0    5    2    0   35]\n",
      " [   5    3    1    6    1 1216   17    2    5    7]\n",
      " [   5    5    0    0    2    5 1357    0    1    0]\n",
      " [   1   13    3    0    1    0    0 1429    0   12]\n",
      " [   7    8    0   17    2   20    4    3 1293   11]\n",
      " [   1    5    0    6   12    2    0   15    2 1348]]\n",
      "Classification Report:\n",
      "              precision    recall  f1-score   support\n",
      "\n",
      "           0       0.98      1.00      0.99      1381\n",
      "           1       0.96      0.99      0.98      1575\n",
      "           2       0.99      0.96      0.97      1398\n",
      "           3       0.98      0.97      0.97      1428\n",
      "           4       0.98      0.96      0.97      1365\n",
      "           5       0.97      0.96      0.97      1263\n",
      "           6       0.98      0.99      0.98      1375\n",
      "           7       0.97      0.98      0.97      1459\n",
      "           8       0.99      0.95      0.97      1365\n",
      "           9       0.95      0.97      0.96      1391\n",
      "\n",
      "    accuracy                           0.97     14000\n",
      "   macro avg       0.97      0.97      0.97     14000\n",
      "weighted avg       0.97      0.97      0.97     14000\n",
      "\n"
     ]
    }
   ],
   "source": [
    "from sklearn.metrics import accuracy_score, confusion_matrix, classification_report\n",
    "import joblib\n",
    "\n",
    "# Load the saved model\n",
    "best_model = joblib.load(\"best_knn_model.pkl\")\n",
    "\n",
    "# Use the model to make predictions on the test set\n",
    "y_test_pred = best_model.predict(X_test)\n",
    "\n",
    "# Evaluate the model's accuracy\n",
    "test_accuracy = accuracy_score(y_test, y_test_pred)\n",
    "print(f\"Test Accuracy: {test_accuracy:.4f}\")\n",
    "\n",
    "# Generate a confusion matrix\n",
    "print(\"Confusion Matrix:\")\n",
    "print(confusion_matrix(y_test, y_test_pred))\n",
    "\n",
    "# Generate a classification report\n",
    "print(\"Classification Report:\")\n",
    "print(classification_report(y_test, y_test_pred))"
   ]
  },
  {
   "cell_type": "code",
   "execution_count": null,
   "id": "23bf8a02-af39-44d2-84db-332b0ae1327e",
   "metadata": {},
   "outputs": [],
   "source": []
  }
 ],
 "metadata": {
  "kernelspec": {
   "display_name": "Python 3 (ipykernel)",
   "language": "python",
   "name": "python3"
  },
  "language_info": {
   "codemirror_mode": {
    "name": "ipython",
    "version": 3
   },
   "file_extension": ".py",
   "mimetype": "text/x-python",
   "name": "python",
   "nbconvert_exporter": "python",
   "pygments_lexer": "ipython3",
   "version": "3.12.4"
  }
 },
 "nbformat": 4,
 "nbformat_minor": 5
}
